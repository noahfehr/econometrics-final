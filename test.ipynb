{
 "cells": [
  {
   "cell_type": "markdown",
   "id": "f9ec636b-f361-4674-8c3e-c31a237e567e",
   "metadata": {},
   "source": [
    "# Importing AGORA dataset"
   ]
  },
  {
   "cell_type": "code",
   "execution_count": 1,
   "id": "66a97ab5-5519-4be4-908d-a91c66e12707",
   "metadata": {},
   "outputs": [],
   "source": [
    "import pandas as pd"
   ]
  },
  {
   "cell_type": "code",
   "execution_count": 13,
   "id": "70a0be43-ede0-4ef6-b47a-a163d6d1ed41",
   "metadata": {},
   "outputs": [],
   "source": [
    "df = pd.read_csv('agora/documents.csv')"
   ]
  },
  {
   "cell_type": "code",
   "execution_count": 14,
   "id": "6b66b570-138e-4533-81a6-aaedd7c04aea",
   "metadata": {},
   "outputs": [
    {
     "name": "stdout",
     "output_type": "stream",
     "text": [
      "This datasets consists of 650 AI-related bills in the USA.\n"
     ]
    }
   ],
   "source": [
    "print(f\"This datasets consists of {len(df)} AI-related bills in the USA.\")"
   ]
  },
  {
   "cell_type": "code",
   "execution_count": 49,
   "id": "703183e8-57a0-4eb8-9ae9-00b42feded9f",
   "metadata": {},
   "outputs": [],
   "source": [
    "def add_full_text(agora_id):\n",
    "    text = None\n",
    "    try:\n",
    "        with open(f'agora/fulltext/{agora_id}.txt', encoding='utf-8') as file:\n",
    "            text = file.read()\n",
    "    except FileNotFoundError as e:\n",
    "        print(e)\n",
    "    return text"
   ]
  },
  {
   "cell_type": "code",
   "execution_count": 50,
   "id": "0baf1dd2-fc7d-45f2-8aba-32131bd5d94c",
   "metadata": {},
   "outputs": [
    {
     "name": "stdout",
     "output_type": "stream",
     "text": [
      "[Errno 2] No such file or directory: 'agora/fulltext/207.txt'\n",
      "[Errno 2] No such file or directory: 'agora/fulltext/494.txt'\n",
      "[Errno 2] No such file or directory: 'agora/fulltext/402.txt'\n",
      "[Errno 2] No such file or directory: 'agora/fulltext/29.txt'\n"
     ]
    }
   ],
   "source": [
    "df[\"full_text\"] = df[\"AGORA ID\"].apply(add_full_text)"
   ]
  },
  {
   "cell_type": "code",
   "execution_count": 51,
   "id": "58ebaf47-c9b2-4646-9dfe-1b5df0029fc1",
   "metadata": {},
   "outputs": [
    {
     "name": "stdout",
     "output_type": "stream",
     "text": [
      "Here is a preview of the first 5 bills in the dataset for reference:\n",
      "\n",
      "   AGORA ID                                      Official name  \\\n",
      "0       444                              CREATE AI Act of 2023   \n",
      "1      1723  National Standard of the People’s Republic of ...   \n",
      "2      1721                              Idaho House Bill 2472   \n",
      "3       281  A Bill in the District of Columbia to prohibit...   \n",
      "4       175  Limited Applicability of Consumer Financial Pr...   \n",
      "\n",
      "                                         Casual name  \\\n",
      "0                                                NaN   \n",
      "1  Basic Safety Requirements for Generative Artif...   \n",
      "2  Idaho HB 2472 (Managed Care Reform and Patient...   \n",
      "3      Stop Discrimination by Algorithms Act of 2023   \n",
      "4  Limited Applicability of Consumer Financial Pr...   \n",
      "\n",
      "                                    Link to document  \\\n",
      "0  https://www.congress.gov/bill/118th-congress/s...   \n",
      "1  https://cset.georgetown.edu/wp-content/uploads...   \n",
      "2  https://www.ilga.gov/legislation/BillStatus.as...   \n",
      "3  https://lims.dccouncil.gov/downloads/LIMS/5228...   \n",
      "4  https://www.federalregister.gov/documents/2022...   \n",
      "\n",
      "                              Authority  \\\n",
      "0                United States Congress   \n",
      "1                     Other authorities   \n",
      "2                                 Idaho   \n",
      "3                  District of Columbia   \n",
      "4  Consumer Financial Protection Bureau   \n",
      "\n",
      "                                         Collections Most recent activity  \\\n",
      "0                                  U.S. federal laws             Proposed   \n",
      "1                             Chinese law and policy             Proposed   \n",
      "2                          U.S. state and local laws              Enacted   \n",
      "3                          U.S. state and local laws             Proposed   \n",
      "4  U.S. regulations, executive orders, and agency...              Enacted   \n",
      "\n",
      "  Most recent activity date Proposed date  Annotated?  ...  \\\n",
      "0                2023-07-27    2023-07-27       False  ...   \n",
      "1                2024-05-17    2024-05-17       False  ...   \n",
      "2                2024-07-19    2023-02-15       False  ...   \n",
      "3                2023-02-10    2023-02-02        True  ...   \n",
      "4                2022-08-17           NaN        True  ...   \n",
      "\n",
      "   Strategies: New institution  Strategies: Performance requirements  \\\n",
      "0                        False                                 False   \n",
      "1                        False                                 False   \n",
      "2                        False                                 False   \n",
      "3                        False                                  True   \n",
      "4                        False                                  True   \n",
      "\n",
      "   Strategies: Pilots and testbeds Strategies: Tiering  \\\n",
      "0                            False               False   \n",
      "1                            False               False   \n",
      "2                            False               False   \n",
      "3                            False                True   \n",
      "4                            False               False   \n",
      "\n",
      "  Strategies: Tiering: Tiering based on domain of application  \\\n",
      "0                                              False            \n",
      "1                                              False            \n",
      "2                                              False            \n",
      "3                                              False            \n",
      "4                                              False            \n",
      "\n",
      "  Strategies: Tiering: Tiering based on generality  \\\n",
      "0                                            False   \n",
      "1                                            False   \n",
      "2                                            False   \n",
      "3                                            False   \n",
      "4                                            False   \n",
      "\n",
      "   Strategies: Tiering: Tiering based on impact  \\\n",
      "0                                         False   \n",
      "1                                         False   \n",
      "2                                         False   \n",
      "3                                         False   \n",
      "4                                         False   \n",
      "\n",
      "  Strategies: Tiering: Tiering based on inputs  \\\n",
      "0                                        False   \n",
      "1                                        False   \n",
      "2                                        False   \n",
      "3                                        False   \n",
      "4                                        False   \n",
      "\n",
      "  Strategies: Tiering: Tiering based on planning ability  \\\n",
      "0                                              False       \n",
      "1                                              False       \n",
      "2                                              False       \n",
      "3                                               True       \n",
      "4                                              False       \n",
      "\n",
      "                                           full_text  \n",
      "0  A BILL\\n\\nTo establish the National Artificial...  \n",
      "1  Cybersecurity Technology - Basic Safety Requir...  \n",
      "2      Section 30. The Managed Care Reform and Pa...  \n",
      "3  A BILL\\nIN THE COUNCIL OF THE DISTRICT OF COLU...  \n",
      "4  I. Background\\n\\nFinancial services companies ...  \n",
      "\n",
      "[5 rows x 101 columns]\n"
     ]
    }
   ],
   "source": [
    "print(\"Here is a preview of the first 5 bills in the dataset for reference:\\n\")\n",
    "print(df.head(5))"
   ]
  },
  {
   "cell_type": "markdown",
   "id": "9618e8db-ca90-4680-8620-9edeaa6151ed",
   "metadata": {},
   "source": [
    "# Pre-processing dataset for LDA/BERTTopic"
   ]
  },
  {
   "cell_type": "code",
   "execution_count": 62,
   "id": "a9edb3d7-52d1-49b2-9616-861a664302f8",
   "metadata": {},
   "outputs": [
    {
     "name": "stderr",
     "output_type": "stream",
     "text": [
      "[nltk_data] Downloading package punkt to\n",
      "[nltk_data]     C:\\Users\\emilx\\AppData\\Roaming\\nltk_data...\n",
      "[nltk_data]   Package punkt is already up-to-date!\n",
      "[nltk_data] Downloading package stopwords to\n",
      "[nltk_data]     C:\\Users\\emilx\\AppData\\Roaming\\nltk_data...\n",
      "[nltk_data]   Package stopwords is already up-to-date!\n"
     ]
    },
    {
     "data": {
      "text/plain": [
       "True"
      ]
     },
     "execution_count": 62,
     "metadata": {},
     "output_type": "execute_result"
    }
   ],
   "source": [
    "import numpy as np\n",
    "from sklearn.feature_extraction.text import CountVectorizer\n",
    "from sklearn.decomposition import LatentDirichletAllocation\n",
    "import nltk\n",
    "from nltk.corpus import stopwords\n",
    "from nltk.tokenize import word_tokenize\n",
    "import re\n",
    "from gensim.models import Phrases\n",
    "from gensim.models.phrases import Phraser\n",
    "nltk.download('punkt')\n",
    "nltk.download('stopwords')"
   ]
  },
  {
   "cell_type": "code",
   "execution_count": 86,
   "id": "6ac26413-e772-44e6-b2f7-819406866af2",
   "metadata": {},
   "outputs": [],
   "source": [
    "def preprocess_text(text):\n",
    "    if isinstance(text, str):\n",
    "        text = text.lower()\n",
    "        text = re.sub(r'[^a-zA-Z\\s]', '', text)\n",
    "        tokens = word_tokenize(text)\n",
    "        stop_words = set(stopwords.words('english'))\n",
    "        tokens = [token for token in tokens if token not in stop_words]\n",
    "        bigram = Phrases(tokens, min_count=5, threshold=10)\n",
    "        bigram_mod = Phraser(bigram)\n",
    "        tokens_with_bigrams = bigram_mod[tokens]\n",
    "        return ' '.join(tokens_with_bigrams)\n",
    "    return ''"
   ]
  },
  {
   "cell_type": "code",
   "execution_count": 88,
   "id": "25dba4f0-0b46-41c2-a617-676b2db23d5c",
   "metadata": {},
   "outputs": [],
   "source": [
    "df[\"full_text_preprocessed\"] = df[\"full_text\"].apply(preprocess_text)"
   ]
  },
  {
   "cell_type": "code",
   "execution_count": 90,
   "id": "e9c89260-d62e-4d65-81aa-f8257bbae2b5",
   "metadata": {},
   "outputs": [],
   "source": [
    "vectorizer = CountVectorizer(max_df=0.95, min_df=2, max_features=1000)\n",
    "doc_term_matrix = vectorizer.fit_transform(df[\"full_text_preprocessed\"])"
   ]
  },
  {
   "cell_type": "code",
   "execution_count": 93,
   "id": "aeb85c92-178d-4fd3-a89b-7b695a68fd52",
   "metadata": {},
   "outputs": [
    {
     "data": {
      "text/plain": [
       "array(['aa', 'ability', 'academic', 'accelerate', 'access', 'accessible',\n",
       "       'accordance', 'account', 'accountability', 'accuracy', 'achieve',\n",
       "       'acquisition', 'across', 'act', 'acting', 'action', 'actions',\n",
       "       'activities', 'activity', 'actors', 'acts', 'actual', 'adding',\n",
       "       'addition', 'additional', 'address', 'administration',\n",
       "       'administrative', 'administrator', 'adopt', 'adoption', 'ads',\n",
       "       'advance', 'advanced', 'advancing', 'adverse', 'advisory',\n",
       "       'affairs', 'affect', 'affected', 'age', 'agencies', 'agency',\n",
       "       'agencys', 'agreement', 'agriculture', 'ai', 'air', 'aircraft',\n",
       "       'algorithm', 'algorithmic', 'algorithms', 'allow', 'also',\n",
       "       'alternative', 'amended', 'america', 'american', 'among', 'amount',\n",
       "       'amounts', 'analysis', 'annex', 'annual', 'annually', 'another',\n",
       "       'applicable', 'application', 'applications', 'applied', 'apply',\n",
       "       'appointed', 'approach', 'approaches', 'appropriate',\n",
       "       'appropriated', 'appropriations', 'approval', 'approved', 'area',\n",
       "       'areas', 'armed', 'article', 'artificial', 'assembly', 'assess',\n",
       "       'assessment', 'assessments', 'assist', 'assistance', 'assistant',\n",
       "       'associated', 'atmospheric', 'attorney', 'audio', 'australia',\n",
       "       'authorities', 'authority', 'authorization', 'authorized',\n",
       "       'automated', 'autonomous', 'availability', 'available', 'aviation',\n",
       "       'avoid', 'award', 'awards', 'based', 'basic', 'basis', 'behalf',\n",
       "       'benefit', 'benefits', 'best', 'better', 'bias', 'bill',\n",
       "       'biological', 'biometric', 'board', 'bodies', 'body', 'budget',\n",
       "       'build', 'building', 'business', 'businesses', 'campaign',\n",
       "       'candidate', 'capabilities', 'capability', 'capacity', 'care',\n",
       "       'carried', 'carry', 'carrying', 'case', 'cases', 'categories',\n",
       "       'cause', 'center', 'centers', 'certain', 'certification', 'chain',\n",
       "       'chains', 'chair', 'challenges', 'change', 'changes', 'chapter',\n",
       "       'characteristics', 'chief', 'child', 'children', 'china',\n",
       "       'circumstances', 'cited', 'civil', 'classification', 'classified',\n",
       "       'clause', 'clear', 'clearly', 'code', 'collaboration', 'collected',\n",
       "       'collection', 'commerce', 'commercial', 'commission', 'committee',\n",
       "       'committees', 'common', 'communication', 'communications',\n",
       "       'communities', 'community', 'companies', 'company', 'competent',\n",
       "       'competition', 'competitive', 'complete', 'compliance', 'comply',\n",
       "       'components', 'comprehensive', 'computational', 'computer',\n",
       "       'computing', 'concern', 'concerning', 'concerns', 'conditions',\n",
       "       'conduct', 'conducted', 'conducting', 'conformity', 'congress',\n",
       "       'congressional', 'consent', 'consider', 'consideration',\n",
       "       'considered', 'considers', 'consistent', 'construction',\n",
       "       'construed', 'consult', 'consultation', 'consumer', 'consumers',\n",
       "       'contact', 'containing', 'content', 'contents', 'context',\n",
       "       'continue', 'contract', 'contracts', 'control', 'controlled',\n",
       "       'controls', 'cooperation', 'coordinate', 'coordination', 'cost',\n",
       "       'costs', 'could', 'council', 'countries', 'country', 'court',\n",
       "       'covered', 'create', 'created', 'credit', 'criminal', 'criteria',\n",
       "       'critical', 'current', 'customer', 'customers', 'cyber',\n",
       "       'cybersecurity', 'data', 'database', 'datasets', 'date', 'days',\n",
       "       'deceptive', 'decision', 'decisionmaking', 'decisions', 'deep',\n",
       "       'defense', 'defined', 'definition', 'definitions', 'definitionsin',\n",
       "       'degree', 'delivery', 'demonstrate', 'demonstration', 'department',\n",
       "       'departments', 'depiction', 'deployed', 'deployer', 'deployers',\n",
       "       'deployment', 'described', 'description', 'design', 'designated',\n",
       "       'designed', 'detailed', 'detection', 'determination', 'determine',\n",
       "       'determined', 'determines', 'develop', 'developed', 'developer',\n",
       "       'developers', 'developing', 'development', 'device', 'devices',\n",
       "       'different', 'digital', 'direct', 'directive', 'directly',\n",
       "       'director', 'disclose', 'disclosure', 'discrimination',\n",
       "       'dissemination', 'distributed', 'distribution', 'district',\n",
       "       'diverse', 'diversity', 'division', 'document', 'documentation',\n",
       "       'domestic', 'duties', 'economic', 'education', 'educational',\n",
       "       'effect', 'effective', 'effectively', 'effectiveness', 'effects',\n",
       "       'efficiency', 'efforts', 'eg', 'election', 'electronic',\n",
       "       'elements', 'eligible', 'emergency', 'emerging', 'employee',\n",
       "       'employees', 'employer', 'employment', 'enable', 'enacted',\n",
       "       'enactment', 'encourage', 'end', 'energy', 'enforcement', 'engage',\n",
       "       'engaged', 'engagement', 'engineering', 'enhance', 'ensure',\n",
       "       'ensuring', 'enter', 'enterprises', 'entities', 'entity',\n",
       "       'environment', 'environmental', 'environments', 'equipment',\n",
       "       'equity', 'establish', 'established', 'establishing',\n",
       "       'establishment', 'et', 'etc', 'ethical', 'ethics', 'eu',\n",
       "       'european', 'evaluate', 'evaluation', 'evaluations', 'event',\n",
       "       'every', 'evidence', 'example', 'except', 'executive', 'existing',\n",
       "       'expand', 'expected', 'experience', 'expertise', 'experts',\n",
       "       'export', 'extent', 'external', 'facilitate', 'facilities',\n",
       "       'facility', 'factors', 'federal', 'feedback', 'field', 'fields',\n",
       "       'final', 'financial', 'findings', 'first', 'fiscal', 'five',\n",
       "       'focus', 'following', 'follows', 'food', 'force', 'foreign',\n",
       "       'form', 'forth', 'foundation', 'framework', 'frameworks',\n",
       "       'frontier', 'full', 'function', 'functions', 'fund', 'fundamental',\n",
       "       'funding', 'funds', 'future', 'gender', 'general', 'generalnot',\n",
       "       'generalpurpose', 'generalthe', 'generate', 'generated',\n",
       "       'generation', 'generative', 'given', 'global', 'goals', 'good',\n",
       "       'goods', 'governance', 'government', 'governments', 'grant',\n",
       "       'grants', 'greater', 'group', 'groups', 'guidance', 'guide',\n",
       "       'guidelines', 'hardware', 'harm', 'harmful', 'harms', 'head',\n",
       "       'heads', 'health', 'help', 'high', 'higher', 'highrisk', 'hiring',\n",
       "       'homeland', 'house', 'human', 'identifiable', 'identification',\n",
       "       'identified', 'identify', 'identifying', 'identity', 'ii', 'iii',\n",
       "       'image', 'images', 'impact', 'impacts', 'implement',\n",
       "       'implementation', 'implemented', 'implementing', 'important',\n",
       "       'improve', 'improving', 'include', 'included', 'includes',\n",
       "       'including', 'increase', 'independent', 'individual',\n",
       "       'individuals', 'industrial', 'industries', 'industry', 'inform',\n",
       "       'information', 'infrastructure', 'initial', 'initiative',\n",
       "       'innovation', 'innovative', 'input', 'inserting', 'institute',\n",
       "       'institution', 'institutions', 'integrated', 'integration',\n",
       "       'integrity', 'intellectual', 'intelligence', 'intelligent',\n",
       "       'intended', 'interagency', 'interest', 'interests', 'internal',\n",
       "       'international', 'internet', 'intimate', 'investigation',\n",
       "       'investment', 'involved', 'involving', 'issue', 'issued', 'issues',\n",
       "       'iv', 'january', 'joint', 'jurisdiction', 'key', 'knowledge',\n",
       "       'known', 'labor', 'laboratories', 'language', 'large', 'later',\n",
       "       'law', 'laws', 'lead', 'leadership', 'learning', 'least', 'legal',\n",
       "       'legislative', 'less', 'level', 'levels', 'leverage', 'liberties',\n",
       "       'life', 'lifecycle', 'likely', 'limitations', 'limited', 'list',\n",
       "       'listed', 'literacy', 'loan', 'local', 'machine', 'made',\n",
       "       'maintain', 'maintenance', 'major', 'make', 'makes', 'making',\n",
       "       'manage', 'management', 'managing', 'manner', 'manufacturing',\n",
       "       'many', 'market', 'material', 'materially', 'materials', 'matter',\n",
       "       'matters', 'may', 'meaning', 'means', 'measure', 'measures',\n",
       "       'mechanism', 'mechanisms', 'media', 'medical', 'meet', 'meeting',\n",
       "       'member', 'members', 'memorandum', 'mental', 'methods', 'metrics',\n",
       "       'military', 'minimum', 'mission', 'misuse', 'mitigate',\n",
       "       'mitigation', 'model', 'modeling', 'models', 'monitoring',\n",
       "       'months', 'mr', 'multiple', 'must', 'nairr', 'name', 'national',\n",
       "       'natural', 'nature', 'necessary', 'need', 'needed', 'needs',\n",
       "       'network', 'networks', 'new', 'nonprofit', 'note', 'notice',\n",
       "       'notification', 'notified', 'nuclear', 'number', 'objectives',\n",
       "       'obligations', 'obtain', 'obtained', 'office', 'officer',\n",
       "       'officers', 'offices', 'official', 'officials', 'omb', 'one',\n",
       "       'ongoing', 'online', 'open', 'operating', 'operation',\n",
       "       'operational', 'operations', 'operator', 'operators',\n",
       "       'opportunities', 'opportunity', 'order', 'organization',\n",
       "       'organizations', 'otherwise', 'outcomes', 'output', 'outputs',\n",
       "       'overall', 'oversight', 'paragraph', 'paragraphs', 'part',\n",
       "       'participate', 'participation', 'particular', 'parties',\n",
       "       'partners', 'partnership', 'partnerships', 'party', 'patient',\n",
       "       'pay', 'penalties', 'penalty', 'people', 'peoples', 'percent',\n",
       "       'perform', 'performance', 'period', 'person', 'personal',\n",
       "       'personnel', 'persons', 'physical', 'pilot', 'place', 'plan',\n",
       "       'planning', 'plans', 'platform', 'platforms', 'point', 'policies',\n",
       "       'policy', 'political', 'position', 'possible', 'potential',\n",
       "       'power', 'powers', 'practicable', 'practice', 'practices',\n",
       "       'prescribed', 'president', 'prevent', 'principles', 'prior',\n",
       "       'privacy', 'private', 'procedures', 'process', 'processes',\n",
       "       'processing', 'procurement', 'product', 'production', 'products',\n",
       "       'professional', 'program', 'programs', 'progress', 'prohibited',\n",
       "       'project', 'projects', 'promote', 'promoting', 'property',\n",
       "       'proposed', 'protect', 'protected', 'protection', 'protections',\n",
       "       'provenance', 'provide', 'provided', 'provider', 'providers',\n",
       "       'provides', 'providing', 'provision', 'provisions', 'public',\n",
       "       'publication', 'publicly', 'published', 'purpose', 'purposes',\n",
       "       'pursuant', 'qualified', 'quality', 'quantum', 'questions',\n",
       "       'range', 'rd', 'read', 'real', 'reasonable', 'reasonably',\n",
       "       'receive', 'received', 'recognition', 'recommendation',\n",
       "       'recommendations', 'record', 'records', 'reduce', 'reference',\n",
       "       'referred', 'regard', 'regarding', 'regulation', 'regulations',\n",
       "       'regulatory', 'related', 'relating', 'release', 'relevant',\n",
       "       'reliability', 'relief', 'report', 'reporting', 'reports',\n",
       "       'representative', 'representatives', 'republic', 'request',\n",
       "       'requests', 'require', 'required', 'requirement', 'requirements',\n",
       "       'requires', 'research', 'researchers', 'resilience', 'resource',\n",
       "       'resources', 'respect', 'response', 'responsibilities',\n",
       "       'responsibility', 'responsible', 'result', 'results', 'review',\n",
       "       'right', 'rights', 'risk', 'risks', 'role', 'roles', 'rule',\n",
       "       'rules', 'safe', 'safeguards', 'safety', 'scale', 'school',\n",
       "       'science', 'sciences', 'scientific', 'scope', 'screening', 'sec',\n",
       "       'secretary', 'section', 'sections', 'sector', 'sectors', 'secure',\n",
       "       'security', 'seek', 'select', 'senate', 'senior', 'sensitive',\n",
       "       'seq', 'serve', 'service', 'services', 'set', 'sets', 'sexual',\n",
       "       'shall', 'share', 'shared', 'sharing', 'short', 'significant',\n",
       "       'similar', 'skills', 'small', 'smart', 'social', 'societal',\n",
       "       'society', 'software', 'solutions', 'source', 'sources', 'space',\n",
       "       'special', 'specific', 'specified', 'spectrum', 'speech', 'sports',\n",
       "       'staff', 'stakeholders', 'standard', 'standards', 'state',\n",
       "       'statement', 'states', 'status', 'stem', 'steps', 'storage',\n",
       "       'strategic', 'strategies', 'strategy', 'strengthen', 'striking',\n",
       "       'structure', 'students', 'study', 'subdivision', 'subject',\n",
       "       'submit', 'submitted', 'subparagraph', 'subsection',\n",
       "       'substantially', 'sufficient', 'summary', 'supply', 'support',\n",
       "       'supporting', 'surveillance', 'synthetic', 'system', 'systems',\n",
       "       'take', 'taken', 'taking', 'talent', 'task', 'tasks', 'team',\n",
       "       'technical', 'techniques', 'technological', 'technologies',\n",
       "       'technology', 'term', 'terms', 'test', 'testing', 'text',\n",
       "       'thereafter', 'thereof', 'third', 'threat', 'threats',\n",
       "       'throughout', 'time', 'timely', 'title', 'tool', 'tools', 'trade',\n",
       "       'train', 'training', 'transaction', 'transfer', 'transparency',\n",
       "       'transportation', 'treatment', 'tribal', 'trust', 'trustworthy',\n",
       "       'two', 'type', 'types', 'understand', 'understanding', 'union',\n",
       "       'united', 'unlawful', 'unless', 'unmanned', 'update', 'updated',\n",
       "       'upon', 'us', 'usc', 'use', 'used', 'user', 'users', 'uses',\n",
       "       'using', 'utilization', 'validation', 'value', 'vehicle',\n",
       "       'vehicles', 'vendor', 'verification', 'vi', 'video', 'vii',\n",
       "       'violation', 'violations', 'visual', 'voice', 'voluntary',\n",
       "       'vulnerabilities', 'wagering', 'water', 'way', 'ways', 'weapon',\n",
       "       'weather', 'website', 'well', 'whether', 'within', 'without',\n",
       "       'work', 'worker', 'workers', 'workforce', 'working', 'world',\n",
       "       'would', 'written', 'year', 'years'], dtype=object)"
      ]
     },
     "execution_count": 93,
     "metadata": {},
     "output_type": "execute_result"
    }
   ],
   "source": [
    "vectorizer.get_feature_names_out()"
   ]
  },
  {
   "cell_type": "code",
   "execution_count": 96,
   "id": "5d5eeb9c-ca2b-4fa2-8176-a19b68246889",
   "metadata": {},
   "outputs": [
    {
     "data": {
      "text/plain": [
       "array([[0, 0, 0, ..., 0, 5, 0],\n",
       "       [0, 5, 0, ..., 0, 0, 0],\n",
       "       [0, 0, 0, ..., 6, 1, 1],\n",
       "       ...,\n",
       "       [0, 2, 0, ..., 0, 0, 0],\n",
       "       [0, 0, 0, ..., 0, 1, 0],\n",
       "       [0, 0, 0, ..., 0, 3, 0]], dtype=int64)"
      ]
     },
     "execution_count": 96,
     "metadata": {},
     "output_type": "execute_result"
    }
   ],
   "source": [
    "doc_term_matrix.toarray()"
   ]
  },
  {
   "cell_type": "code",
   "execution_count": 97,
   "id": "a4a41d75-2490-40da-87a8-2f9722c9b07e",
   "metadata": {},
   "outputs": [],
   "source": [
    "n_topics = 5\n",
    "lda = LatentDirichletAllocation(\n",
    "    n_components=n_topics,\n",
    "    max_iter=200,\n",
    "    learning_method='online',\n",
    "    random_state=42,\n",
    "    batch_size=128,\n",
    "    verbose=0\n",
    ")"
   ]
  },
  {
   "cell_type": "code",
   "execution_count": 98,
   "id": "c328e794-e34b-496d-9660-90a11054b917",
   "metadata": {},
   "outputs": [],
   "source": [
    "lda_output = lda.fit_transform(doc_term_matrix)"
   ]
  },
  {
   "cell_type": "code",
   "execution_count": 99,
   "id": "0b81865c-1dc5-4eee-9e16-8d471b56659e",
   "metadata": {},
   "outputs": [],
   "source": [
    "feature_names = vectorizer.get_feature_names_out()"
   ]
  },
  {
   "cell_type": "code",
   "execution_count": 101,
   "id": "276a323c-6cc8-4e6d-9a8e-9e3d79e910d8",
   "metadata": {},
   "outputs": [
    {
     "name": "stdout",
     "output_type": "stream",
     "text": [
      "\n",
      "Top words in each topic:\n",
      "\n",
      "Topic 1:\n",
      "section, shall, act, covered, person, information, may, commission, means, individual\n",
      "\n",
      "Topic 2:\n",
      "shall, secretary, national, research, section, united, states, including, technology, subsection\n",
      "\n",
      "Topic 3:\n",
      "intelligence, artificial, shall, agency, section, defense, use, system, department, data\n",
      "\n",
      "Topic 4:\n",
      "ai, data, systems, use, risks, development, system, security, including, model\n",
      "\n",
      "Topic 5:\n",
      "shall, ai, article, system, systems, highrisk, regulation, information, providers, relevant\n"
     ]
    }
   ],
   "source": [
    "print(\"\\nTop words in each topic:\")\n",
    "for topic_idx, topic in enumerate(lda.components_):\n",
    "    top_words_idx = topic.argsort()[:-10-1:-1]\n",
    "    top_words = [feature_names[i] for i in top_words_idx]\n",
    "    print(f\"\\nTopic {topic_idx + 1}:\")\n",
    "    print(\", \".join(top_words))"
   ]
  },
  {
   "cell_type": "code",
   "execution_count": 102,
   "id": "c93ba190-0a50-4a98-9e21-b6c8ad761144",
   "metadata": {},
   "outputs": [],
   "source": [
    "topic_columns = [f'Topic_{i+1}' for i in range(n_topics)]\n",
    "df_topics = pd.DataFrame(lda_output, columns=topic_columns)\n",
    "df = pd.concat([df, df_topics], axis=1)"
   ]
  },
  {
   "cell_type": "code",
   "execution_count": 105,
   "id": "5ae27df1-faec-484a-a9bb-0fc5b22fd151",
   "metadata": {},
   "outputs": [
    {
     "name": "stdout",
     "output_type": "stream",
     "text": [
      "\n",
      "Example documents for each topic:\n",
      "\n",
      "Top documents for Topic 1:\n",
      "\\Text: sec state sports wagering program standards generalthe attorney general shall approve application section unless attorney general determines proposed state sports wagering program meet standards set f...\n",
      "Topic 1 probability: 0.999\n",
      "\\Text: bill protect intellectual property rights voice visual likeness individuals purposes enacted senate house representatives united states america congress assembled section short title act may cited nur...\n",
      "Topic 1 probability: 0.999\n",
      "\\Text: section short title act may cited cooper davis actsec reporting requirements electronic communication service providers remote computing services certain controlled substances violationsa amendments c...\n",
      "Topic 1 probability: 0.999\n",
      "\n",
      "Top documents for Topic 2:\n",
      "\\Text: h r improve publicprivate partnerships increase federal research development demonstration related evolution next generation pipeline systems purposes house representatives january mr weber texas ms c...\n",
      "Topic 2 probability: 0.999\n",
      "\\Text: sec strengthening mobility revolutionizing transportation grant program definitionsin section eligible entitythe term eligible entity means state b political subdivision state c tribal government publ...\n",
      "Topic 2 probability: 0.999\n",
      "\\Text: sec centers excellence section food agriculture conservation trade act usc amended striking subsections b c inserting following centers excellence generalthe secretary agriculture shall establish leas...\n",
      "Topic 2 probability: 0.999\n",
      "\n",
      "Top documents for Topic 3:\n",
      "\\Text: sec comparative analysis cybersecurity capabilities comparative analysis requirednot later days date enactment act chief information officer director cost assessment program evaluation cape department...\n",
      "Topic 3 probability: 0.996\n",
      "\\Text: sec digital talent recruiting officer digital talent recruiting department defense generalnot later days date enactment act secretary defense shall designate chief digital recruiting officer within of...\n",
      "Topic 3 probability: 0.996\n",
      "\\Text: section short title act may cited artificial intelligence bug bounty act sec artificial intelligence bug bounty programs program foundational artificial intelligence products incorporated department d...\n",
      "Topic 3 probability: 0.993\n",
      "\n",
      "Top documents for Topic 4:\n",
      "\\Text: hiroshima process international code conduct organizations developing advanced ai systems basis international guiding principles organizations developing advanced ai systems international code conduct...\n",
      "Topic 4 probability: 0.999\n",
      "\\Text: international guiding principles organizations developing advanced ai systems aims promote safe secure trustworthy ai worldwide provide guidance organizations developing using advanced ai systems incl...\n",
      "Topic 4 probability: 0.999\n",
      "\\Text: global ai governance initiative introductory comments omitted global peace development faces various challenges countries commit vision common comprehensive cooperative sustainable security put equal ...\n",
      "Topic 4 probability: 0.998\n",
      "\n",
      "Top documents for Topic 5:\n",
      "\\Text: regulation eu european parliament council june laying harmonised rules artificial intelligence amending regulations ec eu eu eu eu eu directives eu eu eu artificial intelligence act introductory recit...\n",
      "Topic 5 probability: 0.999\n",
      "\\Text: internet information service algorithmic recommendation management provisions chapter general provisions article order standardize internet information service algorithmic recommendation activities ca...\n",
      "Topic 5 probability: 0.858\n",
      "\\Text: article subject matter scope directive lays common rules disclosure evidence highrisk artificial intelligence ai systems enable claimant substantiate noncontractual faultbased civil law claim damages ...\n",
      "Topic 5 probability: 0.851\n"
     ]
    }
   ],
   "source": [
    "print(\"\\nExample documents for each topic:\")\n",
    "for topic_idx in range(n_topics):\n",
    "    print(f\"\\nTop documents for Topic {topic_idx + 1}:\")\n",
    "    top_docs = df.nlargest(3, f'Topic_{topic_idx+1}')\n",
    "    for idx, row in top_docs.iterrows():\n",
    "        print(f\"\\Text: {row['full_text_preprocessed'][:200]}...\")\n",
    "        print(f\"Topic {topic_idx + 1} probability: {row[f'Topic_{topic_idx+1}']:.3f}\")"
   ]
  }
 ],
 "metadata": {
  "kernelspec": {
   "display_name": "Python [conda env:nlp_lss]",
   "language": "python",
   "name": "conda-env-nlp_lss-py"
  },
  "language_info": {
   "codemirror_mode": {
    "name": "ipython",
    "version": 3
   },
   "file_extension": ".py",
   "mimetype": "text/x-python",
   "name": "python",
   "nbconvert_exporter": "python",
   "pygments_lexer": "ipython3",
   "version": "3.8.20"
  }
 },
 "nbformat": 4,
 "nbformat_minor": 5
}
